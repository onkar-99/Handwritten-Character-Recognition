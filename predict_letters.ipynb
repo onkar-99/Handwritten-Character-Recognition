{
  "nbformat": 4,
  "nbformat_minor": 0,
  "metadata": {
    "colab": {
      "name": "predict_letters",
      "provenance": [],
      "collapsed_sections": []
    },
    "kernelspec": {
      "name": "python3",
      "display_name": "Python 3"
    }
  },
  "cells": [
    {
      "cell_type": "markdown",
      "metadata": {
        "id": "K3dAn_-Dzq0R",
        "colab_type": "text"
      },
      "source": [
        "# **Import required packages**"
      ]
    },
    {
      "cell_type": "code",
      "metadata": {
        "id": "_o_YCRJWzvnG",
        "colab_type": "code",
        "colab": {}
      },
      "source": [
        "from keras.models import load_model\n",
        "import matplotlib.pyplot as plt\n",
        "from skimage.transform import resize\n",
        "import numpy as np\n",
        "from sklearn.externals import joblib\n",
        "from keras.models import Sequential\n",
        "from keras.layers.core import Dense, Activation, Dropout, Flatten\n",
        "from keras.layers.convolutional import Conv2D, MaxPooling2D\n",
        "from keras.utils import np_utils\n",
        "from keras.utils import plot_model\n",
        "from keras.optimizers import Adam, SGD, RMSprop \n",
        "from keras import backend\n",
        "import cv2\n",
        "import numpy as np\n",
        "import tensorflow as tf\n",
        "import matplotlib.pyplot as plt\n",
        "import string\n",
        "import matplotlib.pyplot as plt\n",
        "import operator\n",
        "from PIL import Image, ImageDraw\n",
        "\n",
        "import warnings\n",
        "warnings.filterwarnings('ignore')\n"
      ],
      "execution_count": 0,
      "outputs": []
    },
    {
      "cell_type": "markdown",
      "metadata": {
        "id": "QTcJyNlzz-Q3",
        "colab_type": "text"
      },
      "source": [
        "# **Create a dictionary to decode label-> character**"
      ]
    },
    {
      "cell_type": "code",
      "metadata": {
        "id": "Xg6Roh-3z7ge",
        "colab_type": "code",
        "colab": {}
      },
      "source": [
        "model = tf.keras.models.load_model(\"letters_model.h5\")\n",
        "symbols =string.ascii_uppercase \n",
        "mon_dictionnaire = {}\n",
        "\n",
        "for i in range(len(symbols)):\n",
        "    mon_dictionnaire[i]=symbols[i]"
      ],
      "execution_count": 0,
      "outputs": []
    },
    {
      "cell_type": "code",
      "metadata": {
        "id": "fJ8CftNg2kRp",
        "colab_type": "code",
        "colab": {
          "base_uri": "https://localhost:8080/",
          "height": 282
        },
        "outputId": "0e8e6638-95a4-4a3f-9a7a-d378868026cd"
      },
      "source": [
        "link='letter1.png'\n",
        "def best5(image):\n",
        "    test=(model.predict(image))\n",
        "    prediction = {}\n",
        "    for i,j in enumerate(symbols):\n",
        "        prediction[j]=test[0][i]\n",
        "    return sorted(prediction.items(), key=operator.itemgetter(1),reverse=True)[:5]\n",
        "\n",
        "\n",
        "image = cv2.imread(link)\n",
        "   \n",
        "height, width, depth = image.shape\n",
        "#resizing the image to find spaces better\n",
        "image = cv2.resize(image, dsize=(width*5,height*4), interpolation=cv2.INTER_CUBIC)\n",
        "#grayscale\n",
        "gray = cv2.cvtColor(image,cv2.COLOR_BGR2GRAY)\n",
        "#binary\n",
        "ret,thresh = cv2.threshold(gray,127,255,cv2.THRESH_BINARY_INV)\n",
        "#dilation\n",
        "kernel = np.ones((5,5), np.uint8)\n",
        "#img_dilation=cv2.erode(image,kernel,iterations=1)\n",
        "img_dilation = cv2.dilate(thresh, kernel, iterations=1)\n",
        "#adding GaussianBlur\n",
        "gsblur=cv2.GaussianBlur(img_dilation,(5,5),0)\n",
        "#find contours\n",
        "ctrs, hier = cv2.findContours(gsblur.copy(), cv2.RETR_EXTERNAL, cv2.CHAIN_APPROX_SIMPLE)\n",
        "caracaters= list()\n",
        "#sort contours\n",
        "sorted_ctrs = sorted(ctrs, key=lambda ctr: cv2.boundingRect(ctr)[0])\n",
        "prediction = list()\n",
        "dp = image.copy()\n",
        "for i, ctr in enumerate(sorted_ctrs):\n",
        "  # Get bounding box\n",
        "  x, y, w, h = cv2.boundingRect(ctr)\n",
        "  cv2.rectangle(dp,(x-30,y-30),( x + w + 30, y + h + 30 ),(90,0,255),9)\n",
        "for i, ctr in enumerate(sorted_ctrs):\n",
        "  # Get bounding box\n",
        "  x, y, w, h = cv2.boundingRect(ctr)\n",
        "  temp = image[y-30:y+h+30, x-30:x+w+30]\n",
        "temp = cv2.resize(temp, dsize=(28,28), interpolation=cv2.INTER_AREA)\n",
        "temp = cv2.cvtColor(temp,cv2.COLOR_BGR2GRAY)/255\n",
        "temp = np.array(temp)\n",
        "t = np.copy(temp)\n",
        "t = 1-t\n",
        "plt.imshow(t)\n",
        "plt.show()\n",
        "t = t.reshape(1,28,28,1)\n",
        "top5=best5(t)\n",
        "caracaters.append(t)\n",
        "prediction.append(model.predict_classes(t))\n",
        "predword = list()\n",
        "if len(prediction)>1:\n",
        "    fig, ax = plt.subplots(1, len(prediction))\n",
        "    for i, axi in enumerate(ax.flat):\n",
        "        predword.append(mon_dictionnaire[prediction[i][0]])\n",
        "        axi.imshow(caracaters[i].squeeze())\n",
        "        axi.set(xticks=[], yticks=[],xlabel=mon_dictionnaire[prediction[i][0]])\n",
        "else:\n",
        "    predword.append(mon_dictionnaire[prediction[0][0]])\n",
        "predword = ''.join(predword)\n",
        "print('PREDICTED LETTER: '+predword)\n"
      ],
      "execution_count": 7,
      "outputs": [
        {
          "output_type": "display_data",
          "data": {
            "image/png": "[encoded data removed]",
            "text/plain": [
              "<Figure size 432x288 with 1 Axes>"
            ]
          },
          "metadata": {
            "tags": [],
            "needs_background": "light"
          }
        },
        {
          "output_type": "stream",
          "text": [
            "PREDICTED LETTER: N\n"
          ],
          "name": "stdout"
        }
      ]
    },
    {
      "cell_type": "markdown",
      "metadata": {
        "id": "rR8hJJfi1wz7",
        "colab_type": "text"
      },
      "source": [
        "# **Visualise Data**"
      ]
    },
    {
      "cell_type": "code",
      "metadata": {
        "id": "8KXqUbK109wb",
        "colab_type": "code",
        "colab": {
          "base_uri": "https://localhost:8080/",
          "height": 292
        },
        "outputId": "5d6113af-ef8d-441b-fcd0-664bcffd8d13"
      },
      "source": [
        "let = [x[0] for x in top5]\n",
        "prob = [x[1]*100 for x in top5]\n",
        "#print(let,prob)\n",
        "bars=plt.bar(let,prob)\n",
        "plt.ylim(0,100)\n",
        "for rect in bars:\n",
        "    height = rect.get_height()\n",
        "    plt.text(rect.get_x() + rect.get_width()/2., 1.05*height,'%d' % int(height) + '%',ha='center', va='bottom')\n",
        "plt.xlabel('Character')\n",
        "plt.ylabel('Probability')\n",
        "plt.show()"
      ],
      "execution_count": 8,
      "outputs": [
        {
          "output_type": "display_data",
          "data": {
            "image/png": "[encoded data removed]",
            "text/plain": [
              "<Figure size 432x288 with 1 Axes>"
            ]
          },
          "metadata": {
            "tags": [],
            "needs_background": "light"
          }
        }
      ]
    },
    {
      "cell_type": "markdown",
      "metadata": {
        "id": "AlMK4ZqUy9Y9",
        "colab_type": "text"
      },
      "source": [
        "# If your uploaded images are transparents, you should add a background\n"
      ]
    },
    {
      "cell_type": "code",
      "metadata": {
        "id": "UkgMW2w5y0np",
        "colab_type": "code",
        "colab": {}
      },
      "source": [
        "img = Image.open('letter1.png')\n",
        "img = img.convert(\"RGBA\")\n",
        "datas = img.getdata()\n",
        "newData = []\n",
        "for item in datas:\n",
        "    if item[0] == 0 and item[1] == 0 and item[2] == 0:\n",
        "        newData.append((255, 255, 255, 0))\n",
        "    else:\n",
        "        newData.append(item)\n",
        "img.putdata(newData)\n"
      ],
      "execution_count": 0,
      "outputs": []
    }
  ]
}